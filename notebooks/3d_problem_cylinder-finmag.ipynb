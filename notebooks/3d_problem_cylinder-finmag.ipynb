{
 "cells": [
  {
   "cell_type": "markdown",
   "metadata": {},
   "source": [
    "# Three dimensional skyrmion structure"
   ]
  },
  {
   "cell_type": "markdown",
   "metadata": {},
   "source": [
    "<img src=\"mayavi/system_3d_cylinder_finmag.png\", width=800>\n",
    "\n",
    "Three dimensional standard problem for the *Proposal for a micromagnetic standard problem for materials with Dzyaloshinskii-Moriya interaction* paper.\n",
    "\n",
    "System:\n",
    "\n",
    "\n",
    "    * An FeGe cylinder of 180 nm diameter and 20 nm thickness (along z direction)\n",
    "    * Interactions: Exchange:                    8.78e-12  J m**-1\n",
    "                    DMI:                         1.58e-3   J m**-2\n",
    "                    Saturation Magnetisation:    3.84e5    A m**-1\n",
    "                    \n",
    "\n",
    "Here we observe a helical rotation along the thickness of the sample, which modifies the skyrmionic structure in every layer.\n",
    "\n",
    "\n",
    "Relevant paper:\n",
    "\n",
    "[x] Three-dimensional skyrmion states in thin films of cubic helimagnets. PRB **87**, 094424 (2013)."
   ]
  },
  {
   "cell_type": "markdown",
   "metadata": {},
   "source": [
    "# Imports"
   ]
  },
  {
   "cell_type": "code",
   "execution_count": 31,
   "metadata": {},
   "outputs": [],
   "source": [
    "import numpy as np\n",
    "import matplotlib.pyplot as plt\n",
    "import matplotlib\n",
    "\n",
    "import scipy.optimize\n",
    "import scipy.integrate\n",
    "import scipy.interpolate\n",
    "\n",
    "import pandas as pd\n",
    "\n",
    "import os, glob\n",
    "\n",
    "%matplotlib inline\n",
    "plt.style.use('lato_style.mplstyle')"
   ]
  },
  {
   "cell_type": "code",
   "execution_count": 2,
   "metadata": {},
   "outputs": [],
   "source": [
    "from matplotlib.lines import Line2D\n",
    "import matplotlib.gridspec as gridspec"
   ]
  },
  {
   "cell_type": "markdown",
   "metadata": {},
   "source": [
    "# Material"
   ]
  },
  {
   "cell_type": "code",
   "execution_count": 3,
   "metadata": {},
   "outputs": [],
   "source": [
    "# System parameters for the finite difference simulations\n",
    "# Since we use a 3x3x2 nm^3 cell, we use a slightly larger sample size to get\n",
    "# the right sample dimensions\n",
    "\n",
    "# Scale in nm\n",
    "side_length_s = 183 \n",
    "thickness_s = 22\n",
    "cell_s = 3\n",
    "cellz_s = 2\n",
    "\n",
    "# scales in m\n",
    "nm = 1e-9\n",
    "side_length = side_length_s * nm\n",
    "thickness = thickness_s * nm\n",
    "cell = cell_s * nm\n",
    "cellz = cellz_s * nm\n",
    "\n",
    "# Bulk\n",
    "A = 8.78e-12\n",
    "D = 1.58e-3\n",
    "Ms = 3.84e5\n",
    "B = 0.4\n",
    "\n",
    "initial_sk_diam = 20"
   ]
  },
  {
   "cell_type": "markdown",
   "metadata": {},
   "source": [
    "Relevant parameters: Helix period $L_{D}$ and saturation field $H_{D}$\n",
    "\n",
    "$$L_{D} = \\frac{4\\pi A}{|D|} \\qquad H_{D}=\\frac{D^{2}}{2 A M_{\\text{s}}}$$"
   ]
  },
  {
   "cell_type": "code",
   "execution_count": 4,
   "metadata": {},
   "outputs": [
    {
     "name": "stdout",
     "output_type": "stream",
     "text": [
      "L_D = 69.83084430004654 nm\n",
      "mu0 H_D = 0.3702187737281701 T\n",
      "thickness / L_D =  0.31504702858054\n",
      "H / H_D =  1.0804422368210223\n"
     ]
    }
   ],
   "source": [
    "L_D = 4 * np.pi * A / D\n",
    "H_D = (D ** 2) / (2 * A * Ms)\n",
    "\n",
    "print('L_D =', L_D * 1e9, 'nm')\n",
    "print('mu0 H_D =', H_D, 'T')\n",
    "\n",
    "print('thickness / L_D = ', thickness / L_D)\n",
    "print('H / H_D = ', B / H_D)"
   ]
  },
  {
   "cell_type": "markdown",
   "metadata": {},
   "source": [
    "# Finmag Simulation"
   ]
  },
  {
   "cell_type": "markdown",
   "metadata": {},
   "source": [
    "    ===== Mesh info: ==============================\n",
    "    107561 cells (= volume elements)\n",
    "    222673 facets\n",
    "     15102 surface facets\n",
    "    207571 interior facets\n",
    "    137320 edges\n",
    "     22209 vertices\n",
    "\n",
    "    ===== Distribution of edge lengths: ===========\n",
    "    1.791 \n",
    "    2.031 \n",
    "    2.272 **\n",
    "    2.513 ********\n",
    "    2.754 *********************\n",
    "    2.995 ************************************************\n",
    "    3.236 **********************************************************************\n",
    "    3.476 ************************************************************\n",
    "    3.717 *******************************************************\n",
    "    3.958 ************************************************\n",
    "    4.199 ****************************************\n",
    "    4.440 *****************************\n",
    "    4.681 ******************\n",
    "    4.921 **********\n",
    "    5.162 *****\n",
    "    5.403 **\n",
    "    5.644 *\n",
    "    5.885 \n",
    "    6.126 \n",
    "    6.366 \n",
    "    6.607 \n"
   ]
  },
  {
   "cell_type": "code",
   "execution_count": 26,
   "metadata": {},
   "outputs": [],
   "source": [
    "m_bottom = np.loadtxt('../sims/finmag/m_bottom.dat')\n",
    "m_top = np.loadtxt('../sims/finmag/m_top.dat')\n",
    "m_center = np.loadtxt('../sims/finmag/m_center.dat')"
   ]
  },
  {
   "cell_type": "code",
   "execution_count": 35,
   "metadata": {},
   "outputs": [
    {
     "name": "stderr",
     "output_type": "stream",
     "text": [
      "No handles with labels found to put in legend.\n"
     ]
    },
    {
     "data": {
      "image/png": "[encoded data removed]",
      "text/plain": [
       "<matplotlib.figure.Figure at 0x7f58cd3d92e8>"
      ]
     },
     "metadata": {},
     "output_type": "display_data"
    }
   ],
   "source": [
    "fig, (ax1, ax2) = plt.subplots(nrows=2, sharex=True, figsize=(8, 16 / 1.6))\n",
    "\n",
    "# -----------------------------------------------------------------------------\n",
    "# Plot at zs_F[0] --> this is z = -10 nm\n",
    "\n",
    "ax1.plot(m_bottom[:, 0], m_bottom[:, 5], 'o-', label=r'$m_{z}$')\n",
    "ax1.plot(m_bottom[:, 0], m_bottom[:, 6], 'o-', label=r'$m_{r}$')\n",
    "ax1.plot(m_bottom[:, 0], m_bottom[:, 7], 'o-', label=r'$m_{\\phi}$')\n",
    "\n",
    "# ax1.axvline(x=r_sk_F, color='k', lw=1, ls='--')\n",
    "\n",
    "ax1.grid()\n",
    "plt.legend(loc=4)\n",
    "ax1.set_xlim(0, 75)\n",
    "ax1.set_ylim(-1.1, 1.1)\n",
    "\n",
    "ax1.set_xlabel(r'$x$ (nm)')\n",
    "ax1.set_ylabel(r'$m_{i}$')\n",
    "\n",
    "ax1.text(0.5, 0.05, r'$z=$' + '{} (bottom)'.format(0),\n",
    "         horizontalalignment='center', verticalalignment='bottom', \n",
    "         transform=ax1.transAxes)\n",
    "\n",
    "# -----------------------------------------------------------------------------\n",
    "# Plot at zs_F[5] --> this is z = 0 nm (middle of the sample)\n",
    "\n",
    "ax2.plot(m_center[:, 0], m_center[:, 5], 'o-', label=r'$m_{z}$')\n",
    "ax2.plot(m_center[:, 0], m_center[:, 6], 'o-', label=r'$m_{r}$')\n",
    "ax2.plot(m_center[:, 0], m_center[:, 7], 'o-', label=r'$m_{\\phi}$')\n",
    "\n",
    "# ax2.axvline(x=r_sk_F, color='k', lw=1, ls='--')\n",
    "\n",
    "ax2.grid()\n",
    "ax2.legend(loc=4)\n",
    "ax2.set_xlim(0, 75)\n",
    "ax2.set_ylim(-1.1, 1.1)\n",
    "\n",
    "ax2.set_xlabel(r'$x$ (nm)')\n",
    "ax2.set_ylabel(r'$m_{i}$')\n",
    "\n",
    "ax2.text(0.5, 0.05, r'$z=$' + '{} (center)'.format(10),\n",
    "         horizontalalignment='center', verticalalignment='bottom', \n",
    "         transform=ax2.transAxes)\n",
    "\n",
    "# ax2.set_xticklabels([])\n",
    "\n",
    "# -----------------------------------------------------------------------------\n",
    "\n",
    "plt.tight_layout()\n",
    "plt.subplots_adjust(hspace=0)\n",
    "\n",
    "plt.savefig('../paper/result_3d_cylinder_finmag.pdf', bbox_inches='tight')"
   ]
  },
  {
   "cell_type": "markdown",
   "metadata": {},
   "source": [
    "The skyrmion radius at different slices, obtained from the Fidimag simulation:\n",
    "    \n",
    "    At z = 0.0  , r_sk = 15.167\n",
    "    At z = 2.0  , r_sk = 15.260\n",
    "    At z = 4.0  , r_sk = 15.310\n",
    "    At z = 6.0  , r_sk = 15.392\n",
    "    At z = 8.0  , r_sk = 15.428\n",
    "    At z = 10.0 , r_sk = 15.453\n",
    "    At z = 12.0 , r_sk = 15.464\n",
    "    At z = 14.0 , r_sk = 15.416\n",
    "    At z = 16.0 , r_sk = 15.350\n",
    "    At z = 18.0 , r_sk = 15.256\n",
    "    At z = 20.0 , r_sk = 15.159"
   ]
  },
  {
   "cell_type": "markdown",
   "metadata": {},
   "source": [
    "We can export the data from the figure:"
   ]
  },
  {
   "cell_type": "code",
   "execution_count": 36,
   "metadata": {},
   "outputs": [],
   "source": [
    "!mkdir -p data/results_3d_cylinder_finmag/"
   ]
  },
  {
   "cell_type": "code",
   "execution_count": 38,
   "metadata": {},
   "outputs": [],
   "source": [
    "np.savetxt('data/results_3d_cylinder_finmag/result_3d_cylinder_x-mz_bottom_finmag.txt', np.column_stack((m_bottom[:, 0], m_bottom[:, 5])))\n",
    "np.savetxt('data/results_3d_cylinder_finmag/result_3d_cylinder_x-mr_bottom_finmag.txt', np.column_stack((m_bottom[:, 0], m_bottom[:, 6])))\n",
    "np.savetxt('data/results_3d_cylinder_finmag/result_3d_cylinder_x-mphi_bottom_finmag.txt', np.column_stack((m_bottom[:, 0], m_bottom[:, 7])))\n",
    "\n",
    "np.savetxt('data/results_3d_cylinder_finmag/result_3d_cylinder_x-mz_center_finmag.txt', np.column_stack((m_center[:, 0], m_center[:, 5])))\n",
    "np.savetxt('data/results_3d_cylinder_finmag/result_3d_cylinder_x-mr_center_finmag.txt', np.column_stack((m_center[:, 0], m_center[:, 6])))\n",
    "np.savetxt('data/results_3d_cylinder_finmag/result_3d_cylinder_x-mphi_center_finmag.txt', np.column_stack((m_center[:, 0], m_center[:, 7])))\n",
    "\n",
    "np.savetxt('data/results_3d_cylinder_finmag/result_3d_cylinder_x-mz_top_finmag.txt', np.column_stack((m_top[:, 0], m_top[:, 5])))\n",
    "np.savetxt('data/results_3d_cylinder_finmag/result_3d_cylinder_x-mr_top_finmag.txt', np.column_stack((m_top[:, 0], m_top[:, 6])))\n",
    "np.savetxt('data/results_3d_cylinder_finmag/result_3d_cylinder_x-mphi_top_finmag.txt', np.column_stack((m_top[:, 0], m_top[:, 7])))"
   ]
  },
  {
   "cell_type": "code",
   "execution_count": null,
   "metadata": {},
   "outputs": [],
   "source": []
  }
 ],
 "metadata": {
  "anaconda-cloud": {},
  "hide_input": false,
  "kernelspec": {
   "display_name": "Python [default]",
   "language": "python",
   "name": "python3"
  },
  "language_info": {
   "codemirror_mode": {
    "name": "ipython",
    "version": 3
   },
   "file_extension": ".py",
   "mimetype": "text/x-python",
   "name": "python",
   "nbconvert_exporter": "python",
   "pygments_lexer": "ipython3",
   "version": "3.5.2"
  }
 },
 "nbformat": 4,
 "nbformat_minor": 2
}
